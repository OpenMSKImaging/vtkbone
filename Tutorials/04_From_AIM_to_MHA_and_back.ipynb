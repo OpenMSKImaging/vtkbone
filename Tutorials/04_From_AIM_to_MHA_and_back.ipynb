{
 "cells": [
  {
   "cell_type": "markdown",
   "id": "d260937c",
   "metadata": {},
   "source": [
    "# Tutorial Part 4: Back and forth conversion of AIM and MHA and saving the images"
   ]
  },
  {
   "cell_type": "markdown",
   "id": "1d676825",
   "metadata": {},
   "source": [
    "Author: *Jilmen Quintiens* <br>\n",
    "Created: *17 Jan 2024* <br>\n",
    "Last modified: *17 Jan 2024* <br>"
   ]
  },
  {
   "cell_type": "markdown",
   "id": "1336ed8f",
   "metadata": {},
   "source": [
    "## Aim of the tutorial"
   ]
  },
  {
   "cell_type": "markdown",
   "id": "8211fb7d",
   "metadata": {},
   "source": [
    "In this tutorial, we'll read in an AIM file, convert it to an image MHA image while also change the image unit, and transform it back to an AIM image in the native image unit. This way, processing of AIM files can be done independently from the Scanco system, and outputs can be transformed back to AIM files without losing valid metadata."
   ]
  },
  {
   "cell_type": "markdown",
   "id": "9c9886bf",
   "metadata": {},
   "source": [
    "## Load in necessary packages"
   ]
  },
  {
   "cell_type": "markdown",
   "id": "9c23beb0",
   "metadata": {},
   "source": [
    "For this tutorial, the reading of AIM files will make use of `vtkbone`. For the manipulation of MHA files, `SimpleITK`is used. Other usefull packages are also loaded:"
   ]
  },
  {
   "cell_type": "code",
   "execution_count": 1,
   "id": "68580824",
   "metadata": {},
   "outputs": [],
   "source": [
    "import vtk\n",
    "import vtkbone\n",
    "import numpy as np\n",
    "import SimpleITK as sitk\n",
    "import matplotlib.pyplot as plt\n",
    "import os"
   ]
  },
  {
   "cell_type": "markdown",
   "id": "53e9461a",
   "metadata": {},
   "source": [
    "We also load the helper functions, originally pulled from the BoneLab repository. For more information on the helper functions, we refer to Part 1 of the Tutorial."
   ]
  },
  {
   "cell_type": "code",
   "execution_count": 2,
   "id": "d8bc4880",
   "metadata": {},
   "outputs": [],
   "source": [
    "#provides function to read AIM header (in standard format) and pull key values for density calibration\n",
    "from python_helpers.aim_calibration_header import get_aim_calibration_constants_from_processing_log\n",
    "from python_helpers.aim_calibration_header import get_aim_density_equation\n",
    "from python_helpers.aim_calibration_header import get_aim_hu_equation\n",
    "\n",
    "#provides functions for converting between vtk image data format to a numpy array and back\n",
    "from python_helpers.vtk_util import vtkImageData_to_numpy, numpy_to_vtkImageData"
   ]
  },
  {
   "cell_type": "markdown",
   "id": "8682a202",
   "metadata": {},
   "source": [
    "## From AIM to MHA\n",
    "### Read in AIM file and convert to SimpleITK image"
   ]
  },
  {
   "cell_type": "markdown",
   "id": "d081f0e9",
   "metadata": {},
   "source": [
    "In order to convert the AIM image to an MHA image, the first step is to read in the AIM and convert the image matrix to a numpy array and a SimpleITK image. For more information on this step, see Tutorial Part 1. For this example, we will rescale the numpy array to a mineral density unit."
   ]
  },
  {
   "cell_type": "code",
   "execution_count": 3,
   "id": "22649105",
   "metadata": {},
   "outputs": [],
   "source": [
    "#specify file path to image. here we use the example image found in the \"/data\" subfolder\n",
    "file_path = \"data/TRAB_1240.AIM\"\n",
    "\n",
    "# read in aim image\n",
    "reader = vtkbone.vtkboneAIMReader()\n",
    "reader.DataOnCellsOff() \n",
    "reader.SetFileName(file_path)\n",
    "reader.Update()\n",
    "\n",
    "#here we pull the image data itself along with the header information \n",
    "vtk_img = reader.GetOutput()\n",
    "img_header = reader.GetProcessingLog()\n",
    "\n",
    "# convert to numpy array\n",
    "np_image = vtkImageData_to_numpy(vtk_img)\n",
    "\n",
    "# rescale image to BMD unit\n",
    "mu_scaling, hu_mu_water, hu_mu_air, density_slope, density_intercept = get_aim_calibration_constants_from_processing_log(img_header)\n",
    "np_image_scaled = np_image/mu_scaling * density_slope + density_intercept\n",
    "\n",
    "# convert to SimpleITK\n",
    "origin = vtk_img.GetOrigin()\n",
    "spacing = vtk_img.GetSpacing()\n",
    "\n",
    "np_image_scaled = np.transpose(np_image_scaled)\n",
    "\n",
    "sitk_img = sitk.GetImageFromArray(np_image_scaled)\n",
    "sitk_img.SetSpacing(spacing)\n",
    "sitk_img.SetOrigin(origin)"
   ]
  },
  {
   "cell_type": "markdown",
   "id": "407e50a6",
   "metadata": {},
   "source": [
    "### Add metadata to SimpleITK image"
   ]
  },
  {
   "cell_type": "markdown",
   "id": "af3f4482",
   "metadata": {},
   "source": [
    "For future manipulations and backwards compatibility, it is important that the image does not loose its metadata once the conversion to SimpleITK and MHA files are performed. For this reason we add two new metadata entries to the SimpleITK image."
   ]
  },
  {
   "cell_type": "markdown",
   "id": "ed3e0578",
   "metadata": {},
   "source": [
    "#### Add image header as metadata"
   ]
  },
  {
   "cell_type": "markdown",
   "id": "022fca96",
   "metadata": {},
   "source": [
    "The first addition to the metadata is the image header data. We do this with the `SetMetaData` method from the SimpleITK image class. However, for SimpleITK compatibility, metadata may only consist out of string values, and there **cannot** be line breaks in the metadata. Therefore we slightly manipulate the image header string."
   ]
  },
  {
   "cell_type": "code",
   "execution_count": 9,
   "id": "0326f7d9",
   "metadata": {},
   "outputs": [],
   "source": [
    "sitk_header = img_header.replace('\\n', '_LINEBREAK_')\n",
    "sitk_img.SetMetaData('image_header', sitk_header)"
   ]
  },
  {
   "cell_type": "markdown",
   "id": "1b84546b",
   "metadata": {},
   "source": [
    "#### Add image unit as metadata"
   ]
  },
  {
   "cell_type": "markdown",
   "id": "97a38fb8",
   "metadata": {},
   "source": [
    "In order to keep track of the unit in which the image values are expressed, we create a new metadata entry for this as well. In our example, the current unit of the SimpleITK image is *BMD*."
   ]
  },
  {
   "cell_type": "code",
   "execution_count": 10,
   "id": "6ff71d34",
   "metadata": {},
   "outputs": [],
   "source": [
    "sitk_img.SetMetaData('unit','BMD')"
   ]
  },
  {
   "cell_type": "markdown",
   "id": "397a8a8c",
   "metadata": {},
   "source": [
    "### Save SimpleITK image as MHA file"
   ]
  },
  {
   "cell_type": "markdown",
   "id": "f2137d6b",
   "metadata": {},
   "source": [
    "Now that all the metadata is set, such that no metadata information is lost, we can safely save the image as an MHA file. "
   ]
  },
  {
   "cell_type": "code",
   "execution_count": 11,
   "id": "6e9e8400",
   "metadata": {},
   "outputs": [],
   "source": [
    "sitk.WriteImage(sitk_img, \"data/TRAB_1240.mha\")"
   ]
  },
  {
   "cell_type": "markdown",
   "id": "c18ea09f",
   "metadata": {},
   "source": [
    "## From MHA to AIM"
   ]
  },
  {
   "cell_type": "markdown",
   "id": "8b6bbad1",
   "metadata": {},
   "source": [
    "For this step, we want to convert the MHA file back to AIM. we start by reading in the saved image. This image, read in from file, should have an image unit and a header file in its metadata."
   ]
  },
  {
   "cell_type": "code",
   "execution_count": 12,
   "id": "ab563157",
   "metadata": {},
   "outputs": [
    {
     "name": "stdout",
     "output_type": "stream",
     "text": [
      "The metadata keys:\n",
      "ITK_InputFilterName\n",
      "ITK_original_direction\n",
      "ITK_original_spacing\n",
      "image_header\n",
      "unit\n"
     ]
    }
   ],
   "source": [
    "del sitk_img\n",
    "sitk_img = sitk.ReadImage(\"data/TRAB_1240.mha\")\n",
    "\n",
    "# checking the meta data keys\n",
    "keys = sitk_img.GetMetaDataKeys()\n",
    "print(\"The metadata keys:\")\n",
    "for k in keys:\n",
    "    print(k)"
   ]
  },
  {
   "cell_type": "markdown",
   "id": "46cdc181",
   "metadata": {},
   "source": [
    "### Conversion to numpy"
   ]
  },
  {
   "cell_type": "code",
   "execution_count": 22,
   "id": "4d66dffd",
   "metadata": {},
   "outputs": [],
   "source": [
    "# numpy array\n",
    "np_image = sitk.GetArrayFromImage(sitk_img)\n",
    "origin = sitk_img.GetOrigin()\n",
    "spacing = sitk_img.GetSpacing()"
   ]
  },
  {
   "cell_type": "markdown",
   "id": "d9e46a23",
   "metadata": {},
   "source": [
    "### Restoring the header"
   ]
  },
  {
   "cell_type": "markdown",
   "id": "9db31dcd",
   "metadata": {},
   "source": [
    "We previously adapted the header file such that it had SimpleITK compatibility. Before writing the SimpleITK image back to an AIM file, we need to restore the header to its original state."
   ]
  },
  {
   "cell_type": "code",
   "execution_count": 13,
   "id": "22193ade",
   "metadata": {},
   "outputs": [
    {
     "name": "stdout",
     "output_type": "stream",
     "text": [
      "!\n",
      "! Processing Log\n",
      "!\n",
      "!-------------------------------------------------------------------------------\n",
      "Created by                    ISQ_TO_AIM (IPL)                                  \n",
      "Time                          16-APR-2017 20:20:59.67                           \n",
      "Original file                 dk0:[xtremect2.data.00001237.00005697]d0005679.isq;\n",
      "Original Creation-Date        14-SEP-2016 15:27:12.18                           \n",
      "Orig-ISQ-Dim-p                                   2304       2304        168\n",
      "Orig-ISQ-Dim-um                                139852     139852      10197\n",
      "!-------------------------------------------------------------------------------\n",
      "Patient Name                  DBQ_152                                           \n",
      "Index Patient                                    1237\n",
      "Index Measurement                                5697\n",
      "!-------------------------------------------------------------------------------\n",
      "Site                                               20\n",
      "Scanner ID                                       3401\n",
      "Scanner type                                        9\n",
      "Position Slice 1 [um]                          166250\n",
      "No. samples                                      2304\n",
      "No. projections per 180                           900\n",
      "Scan Distance [um]                             139852\n",
      "Integration time [us]                           43000\n",
      "Reference line [um]                            156750\n",
      "Reconstruction-Alg.                                 3\n",
      "Energy [V]                                      68000\n",
      "Intensity [uA]                                   1470\n",
      "Angle-Offset [mdeg]                                 0\n",
      "Default-Eval                                      111\n",
      "!-------------------------------------------------------------------------------\n",
      "Mu_Scaling                                       8192\n",
      "Calibration Data              68 kVp, BH: 200 mg HA/ccm, Scaling 8192, 0.2 CU   \n",
      "Calib. default unit type      2 (Density)                                       \n",
      "Density: unit                 mg HA/ccm                                         \n",
      "Density: slope                         1.66252405e+03\n",
      "Density: intercept                    -3.98609009e+02\n",
      "HU: mu water                                  0.23660\n",
      "!-------------------------------------------------------------------------------\n",
      "Parameter name                Linear Attenuation                                \n",
      "Parameter units               [1/cm]                                            \n",
      "Minimum value                                -0.19946\n",
      "Maximum value                                 1.22742\n",
      "Average value                                 0.30119\n",
      "Standard deviation                            0.14001\n",
      "Scaled by factor                                 8192\n",
      "Minimum data value                        -1634.00000\n",
      "Maximum data value                        10055.00000\n",
      "Average data value                         2467.32495\n",
      "Standard data deviation                    1146.94397\n",
      "!-------------------------------------------------------------------------------\n",
      "\n"
     ]
    }
   ],
   "source": [
    "header = sitk_img.GetMetaData('image_header')\n",
    "header = header.replace('_LINEBREAK_', '\\n')\n",
    "\n",
    "print(header)"
   ]
  },
  {
   "cell_type": "markdown",
   "id": "12661e3c",
   "metadata": {},
   "source": [
    "###  Restoring the native image data"
   ]
  },
  {
   "cell_type": "markdown",
   "id": "27143446",
   "metadata": {},
   "source": [
    "AIMS are always assumed to be in the Scanco scanner's native image data. In order to recalculate the image in this unit, we can make use of the header file and the inverse transformations that were used to rescale the image in Part 1 of this tutorial. Hence, it is important that the current data unit is still stored in the metadata."
   ]
  },
  {
   "cell_type": "code",
   "execution_count": 18,
   "id": "1f7c80f8",
   "metadata": {},
   "outputs": [
    {
     "name": "stdout",
     "output_type": "stream",
     "text": [
      "unit of sitk image is BMD\n"
     ]
    }
   ],
   "source": [
    "unit = sitk_img.GetMetaData('unit')\n",
    "print(f'unit of sitk image is {unit}')"
   ]
  },
  {
   "cell_type": "code",
   "execution_count": 21,
   "id": "862c3393",
   "metadata": {},
   "outputs": [
    {
     "name": "stdout",
     "output_type": "stream",
     "text": [
      "Image converted to native units\n"
     ]
    }
   ],
   "source": [
    "if unit == 'mu':\n",
    "        mu_scaling, hu_mu_water, hu_mu_air, density_slope, density_intercept = get_aim_calibration_constants_from_processing_log(header)\n",
    "        np_image_native = np_image*mu_scaling\n",
    "    \n",
    "elif unit == 'HU':\n",
    "    mu_scaling, hu_mu_water, hu_mu_air, density_slope, density_intercept = get_aim_calibration_constants_from_processing_log(header)\n",
    "    m, b = get_aim_hu_equation(img_log)\n",
    "    np_image_native = (np_image-b)/m\n",
    "\n",
    "elif unit == 'BMD':\n",
    "    mu_scaling, hu_mu_water, hu_mu_air, density_slope, density_intercept = get_aim_calibration_constants_from_processing_log(header)\n",
    "    np_image_native = (np_image - density_intercept)*mu_scaling/density_slope\n",
    "\n",
    "elif unit == 'native':\n",
    "    np_image_native = np_image\n",
    "\n",
    "else:\n",
    "    raise ValueError(f'incorrect image unit specified in metadata: {unit}.')\n",
    "\n",
    "print('Image converted to native units')"
   ]
  },
  {
   "cell_type": "markdown",
   "id": "5b2ad19a",
   "metadata": {},
   "source": [
    "### Conversion to VTK"
   ]
  },
  {
   "cell_type": "code",
   "execution_count": 25,
   "id": "afe0802b",
   "metadata": {},
   "outputs": [],
   "source": [
    "# flip of x and z coordinates for compatibility\n",
    "np_image_native = np.transpose(np_image_native)\n",
    "\n",
    "# numpy to vtk\n",
    "vtk_img = numpy_to_vtkImageData(np_image_native, spacing=spacing, origin=origin, array_type = vtk.VTK_SHORT)"
   ]
  },
  {
   "cell_type": "markdown",
   "id": "2db2ac2c",
   "metadata": {},
   "source": [
    "### Writing the AIM"
   ]
  },
  {
   "cell_type": "code",
   "execution_count": 26,
   "id": "95ff742e",
   "metadata": {},
   "outputs": [
    {
     "data": {
      "text/plain": [
       "1"
      ]
     },
     "execution_count": 26,
     "metadata": {},
     "output_type": "execute_result"
    }
   ],
   "source": [
    "writer = vtkbone.vtkboneAIMWriter()\n",
    "writer.SetFileName(\"data/TRAB_1240_from_mha.aim\")\n",
    "writer.SetInputData(vtk_img)\n",
    "writer.NewProcessingLogOff()  \n",
    "writer.SetProcessingLog(header)\n",
    "writer.Update()\n",
    "writer.Write()"
   ]
  },
  {
   "cell_type": "markdown",
   "id": "eea63ce4",
   "metadata": {},
   "source": [
    "## Verification of original AIM and restored AIM "
   ]
  },
  {
   "cell_type": "markdown",
   "id": "5ac375b4",
   "metadata": {},
   "source": [
    "In the final step of the tutorial, we will show that the the original AIM and the restored AIM from the MHA file are the same file."
   ]
  },
  {
   "cell_type": "markdown",
   "id": "348c6208",
   "metadata": {},
   "source": [
    "### reading in AIMS"
   ]
  },
  {
   "cell_type": "code",
   "execution_count": 27,
   "id": "bc0d52d7",
   "metadata": {},
   "outputs": [],
   "source": [
    "reader = vtkbone.vtkboneAIMReader()\n",
    "reader.DataOnCellsOff() \n",
    "\n",
    "# original AIM\n",
    "reader.SetFileName(\"data/TRAB_1240.AIM\")\n",
    "reader.Update()\n",
    "aim_original = reader.GetOutput()\n",
    "header_original = reader.GetProcessingLog()\n",
    "\n",
    "# restored AIM\n",
    "reader.SetFileName('IMG1237_from_mha.aim')\n",
    "reader.Update()\n",
    "aim_restore = reader.GetOutput()\n",
    "header_restore = reader.GetProcessingLog()"
   ]
  },
  {
   "cell_type": "markdown",
   "id": "06072c69",
   "metadata": {},
   "source": [
    "### Verifying the header files"
   ]
  },
  {
   "cell_type": "code",
   "execution_count": 28,
   "id": "a9d9ef9e",
   "metadata": {},
   "outputs": [
    {
     "name": "stdout",
     "output_type": "stream",
     "text": [
      "Original file's header:\n",
      "!\n",
      "! Processing Log\n",
      "!\n",
      "!-------------------------------------------------------------------------------\n",
      "Created by                    ISQ_TO_AIM (IPL)                                  \n",
      "Time                          16-APR-2017 20:20:59.67                           \n",
      "Original file                 dk0:[xtremect2.data.00001237.00005697]d0005679.isq;\n",
      "Original Creation-Date        14-SEP-2016 15:27:12.18                           \n",
      "Orig-ISQ-Dim-p                                   2304       2304        168\n",
      "Orig-ISQ-Dim-um                                139852     139852      10197\n",
      "!-------------------------------------------------------------------------------\n",
      "Patient Name                  DBQ_152                                           \n",
      "Index Patient                                    1237\n",
      "Index Measurement                                5697\n",
      "!-------------------------------------------------------------------------------\n",
      "Site                                               20\n",
      "Scanner ID                                       3401\n",
      "Scanner type                                        9\n",
      "Position Slice 1 [um]                          166250\n",
      "No. samples                                      2304\n",
      "No. projections per 180                           900\n",
      "Scan Distance [um]                             139852\n",
      "Integration time [us]                           43000\n",
      "Reference line [um]                            156750\n",
      "Reconstruction-Alg.                                 3\n",
      "Energy [V]                                      68000\n",
      "Intensity [uA]                                   1470\n",
      "Angle-Offset [mdeg]                                 0\n",
      "Default-Eval                                      111\n",
      "!-------------------------------------------------------------------------------\n",
      "Mu_Scaling                                       8192\n",
      "Calibration Data              68 kVp, BH: 200 mg HA/ccm, Scaling 8192, 0.2 CU   \n",
      "Calib. default unit type      2 (Density)                                       \n",
      "Density: unit                 mg HA/ccm                                         \n",
      "Density: slope                         1.66252405e+03\n",
      "Density: intercept                    -3.98609009e+02\n",
      "HU: mu water                                  0.23660\n",
      "!-------------------------------------------------------------------------------\n",
      "Parameter name                Linear Attenuation                                \n",
      "Parameter units               [1/cm]                                            \n",
      "Minimum value                                -0.19946\n",
      "Maximum value                                 1.22742\n",
      "Average value                                 0.30119\n",
      "Standard deviation                            0.14001\n",
      "Scaled by factor                                 8192\n",
      "Minimum data value                        -1634.00000\n",
      "Maximum data value                        10055.00000\n",
      "Average data value                         2467.32495\n",
      "Standard data deviation                    1146.94397\n",
      "!-------------------------------------------------------------------------------\n",
      "\n",
      "\n",
      "\n",
      "Restored file's header:\n",
      "!\n",
      "! Processing Log\n",
      "!\n",
      "!-------------------------------------------------------------------------------\n",
      "Created by                    ISQ_TO_AIM (IPL)                                  \n",
      "Time                          16-APR-2017 20:20:59.67                           \n",
      "Original file                 dk0:[xtremect2.data.00001237.00005697]d0005679.isq;\n",
      "Original Creation-Date        14-SEP-2016 15:27:12.18                           \n",
      "Orig-ISQ-Dim-p                                   2304       2304        168\n",
      "Orig-ISQ-Dim-um                                139852     139852      10197\n",
      "!-------------------------------------------------------------------------------\n",
      "Patient Name                  DBQ_152                                           \n",
      "Index Patient                                    1237\n",
      "Index Measurement                                5697\n",
      "!-------------------------------------------------------------------------------\n",
      "Site                                               20\n",
      "Scanner ID                                       3401\n",
      "Scanner type                                        9\n",
      "Position Slice 1 [um]                          166250\n",
      "No. samples                                      2304\n",
      "No. projections per 180                           900\n",
      "Scan Distance [um]                             139852\n",
      "Integration time [us]                           43000\n",
      "Reference line [um]                            156750\n",
      "Reconstruction-Alg.                                 3\n",
      "Energy [V]                                      68000\n",
      "Intensity [uA]                                   1470\n",
      "Angle-Offset [mdeg]                                 0\n",
      "Default-Eval                                      111\n",
      "!-------------------------------------------------------------------------------\n",
      "Mu_Scaling                                       8192\n",
      "Calibration Data              68 kVp, BH: 200 mg HA/ccm, Scaling 8192, 0.2 CU   \n",
      "Calib. default unit type      2 (Density)                                       \n",
      "Density: unit                 mg HA/ccm                                         \n",
      "Density: slope                         1.66252405e+03\n",
      "Density: intercept                    -3.98609009e+02\n",
      "HU: mu water                                  0.23660\n",
      "!-------------------------------------------------------------------------------\n",
      "Parameter name                Linear Attenuation                                \n",
      "Parameter units               [1/cm]                                            \n",
      "Minimum value                                -0.19946\n",
      "Maximum value                                 1.22742\n",
      "Average value                                 0.30119\n",
      "Standard deviation                            0.14001\n",
      "Scaled by factor                                 8192\n",
      "Minimum data value                        -1634.00000\n",
      "Maximum data value                        10055.00000\n",
      "Average data value                         2467.32495\n",
      "Standard data deviation                    1146.94397\n",
      "!-------------------------------------------------------------------------------\n",
      "\n"
     ]
    }
   ],
   "source": [
    "print(\"Original file's header:\")\n",
    "print(header_original)\n",
    "print('\\n')\n",
    "print(\"Restored file's header:\")\n",
    "print(header_restore)"
   ]
  },
  {
   "cell_type": "markdown",
   "id": "3b2db849",
   "metadata": {},
   "source": [
    "###  Verifying the image values"
   ]
  },
  {
   "cell_type": "code",
   "execution_count": 31,
   "id": "d29572a1",
   "metadata": {},
   "outputs": [
    {
     "name": "stdout",
     "output_type": "stream",
     "text": [
      "Original AIM value at index (30, 20, 1): 2101.0\n",
      "Reproduced AIM value at index (30, 20, 1): 2101.0\n"
     ]
    }
   ],
   "source": [
    "# set a random voxel coordinate\n",
    "xi = 30\n",
    "yi = 20\n",
    "zi = 1\n",
    "\n",
    "orig_val = aim_original.GetScalarComponentAsFloat(xi,yi,zi,0)\n",
    "restore_val = aim_restore.GetScalarComponentAsFloat(xi,yi,zi,0)\n",
    "\n",
    "print(f'Original AIM value at index {(xi,yi,zi)}: {orig_val}')\n",
    "print(f'Reproduced AIM value at index {(xi,yi,zi)}: {restore_val}')"
   ]
  },
  {
   "cell_type": "code",
   "execution_count": 39,
   "id": "ce348e55",
   "metadata": {},
   "outputs": [
    {
     "name": "stdout",
     "output_type": "stream",
     "text": [
      "The two numpy arrays are identical\n"
     ]
    },
    {
     "data": {
      "image/png": "[encoded data removed]",
      "text/plain": [
       "<Figure size 640x480 with 2 Axes>"
      ]
     },
     "metadata": {},
     "output_type": "display_data"
    }
   ],
   "source": [
    "# for a random slice\n",
    "slice_nb = 10\n",
    "\n",
    "np_original = vtkImageData_to_numpy(aim_original)\n",
    "np_restore = vtkImageData_to_numpy(aim_restore)\n",
    "\n",
    "slice_original = np_original[:, :, slice_nb]\n",
    "slice_restore = np_restore[:, :, slice_nb]\n",
    "\n",
    "f, ax = plt.subplots(1,2)\n",
    "ax[0].imshow(slice_original)\n",
    "ax[0].set_title('Original AIM slice');\n",
    "\n",
    "ax[1].imshow(slice_restore)\n",
    "ax[1].set_title('Restored AIM slice');\n",
    "\n",
    "diff = np_original - np_restore\n",
    "diff_vals = np.unique(diff)\n",
    "if diff_vals.all() == 0:\n",
    "    print('The two numpy arrays are identical')\n",
    "else:\n",
    "    print('The two numpy arrays are NOT identical')"
   ]
  }
 ],
 "metadata": {
  "kernelspec": {
   "display_name": "Python 3 (ipykernel)",
   "language": "python",
   "name": "python3"
  },
  "language_info": {
   "codemirror_mode": {
    "name": "ipython",
    "version": 3
   },
   "file_extension": ".py",
   "mimetype": "text/x-python",
   "name": "python",
   "nbconvert_exporter": "python",
   "pygments_lexer": "ipython3",
   "version": "3.7.1"
  }
 },
 "nbformat": 4,
 "nbformat_minor": 5
}
