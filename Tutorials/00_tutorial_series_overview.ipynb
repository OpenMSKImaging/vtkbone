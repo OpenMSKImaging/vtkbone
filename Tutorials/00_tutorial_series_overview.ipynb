{
 "cells": [
  {
   "cell_type": "markdown",
   "id": "7d737c24",
   "metadata": {
    "lang": "en"
   },
   "source": [
    "# Tutorial Package for Scanco IO\n",
    "\n",
    "This notebook series provides an overview of how to get started reading, manipulating, and writing .AIM files outside the Scanco system. It is intended to help with overcoming common pitfalls, provide key helper functions to speed up projects, and provide some examples of core image processing steps. \n",
    "\n",
    "The Scanco IO module is built around the vtkbone toolkit developed and maintained by Numerics88\n",
    "\n",
    "Before getting started be sure to read the README for this repository, completing the necessary steps to install the conda environment with all necessary packages."
   ]
  },
  {
   "cell_type": "markdown",
   "id": "6222090a",
   "metadata": {
    "hide_input": true,
    "lang": "de"
   },
   "source": [
    "## Reading in an AIM\n",
    "\n",
    "[**Link here to tutorial**](01_reading_in_aims.ipynb)\n",
    "<br>\n",
    "This tutorial shows the basics of how to read in an AIM file and convert it to a VTK or sITK image object using the available utility functions. An overview on how to pull important information from the metadata, including density calibration information to convert images to meaningful units. \n",
    "\n",
    "From there it is possible to manipulate and perform more advanced analysis using these open source toolkits.\n",
    "\n",
    "\n"
   ]
  },
  {
   "cell_type": "markdown",
   "id": "62484025",
   "metadata": {},
   "source": [
    "## Visualization and Image Processing Basics\n",
    "[**Link here to tutorial**](02_visualization_and_img_processing_basics.ipynb)\n",
    "<br>\n",
    "This notebook is intended to guide you through the process of visualizing and apply basic image processing operations to the AIM images loaded via the ``vtkbone`` library."
   ]
  },
  {
   "cell_type": "markdown",
   "id": "92725c89",
   "metadata": {},
   "source": [
    "## Manipulating AIM metadata\n",
    "[**Link here to tutorial**](03_header_manipulation.ipynb)\n",
    "<br>\n",
    "In this tutorial, we will go through the process of reading, processing, and saving an AIM file (Scanco) using `vtkbone` and `vtk`. We will show \n",
    "\n",
    "1) How to manipulate the processing log: This could be useful if you are trying to re-calibrate your images (e.g multicenter studies) \n",
    "2) How to manipulate an image using `vtk` and then append the changes made to your processing log\n",
    "3) How to save the manipulated image again as an AIM file. "
   ]
  },
  {
   "cell_type": "markdown",
   "id": "2694d563",
   "metadata": {},
   "source": [
    "## Converting AIM to .MHA\n",
    "[**Link here to tutorial**](04_From_AIM_to_MHA_and_back.ipynb)\n",
    "<br>\n",
    "In this tutorial, we'll read in an AIM file, convert it to an image MHA image while also change the image unit, and transform it back to an AIM image in the native image unit. This way, processing of AIM files can be done independently from the Scanco system, and outputs can be transformed back to AIM files without losing valid metadata."
   ]
  }
 ],
 "metadata": {
  "kernelspec": {
   "display_name": "Python 3 (ipykernel)",
   "language": "python",
   "name": "python3"
  },
  "language_info": {
   "codemirror_mode": {
    "name": "ipython",
    "version": 3
   },
   "file_extension": ".py",
   "mimetype": "text/x-python",
   "name": "python",
   "nbconvert_exporter": "python",
   "pygments_lexer": "ipython3",
   "version": "3.7.12"
  },
  "nbTranslate": {
   "displayLangs": [
    "en",
    "de"
   ],
   "hotkey": "alt-t",
   "langInMainMenu": true,
   "sourceLang": "en",
   "targetLang": "de",
   "useGoogleTranslate": true
  },
  "toc": {
   "base_numbering": 1,
   "nav_menu": {},
   "number_sections": true,
   "sideBar": true,
   "skip_h1_title": false,
   "title_cell": "Table of Contents",
   "title_sidebar": "Contents",
   "toc_cell": false,
   "toc_position": {},
   "toc_section_display": true,
   "toc_window_display": false
  },
  "varInspector": {
   "cols": {
    "lenName": 16,
    "lenType": 16,
    "lenVar": 40
   },
   "kernels_config": {
    "python": {
     "delete_cmd_postfix": "",
     "delete_cmd_prefix": "del ",
     "library": "var_list.py",
     "varRefreshCmd": "print(var_dic_list())"
    },
    "r": {
     "delete_cmd_postfix": ") ",
     "delete_cmd_prefix": "rm(",
     "library": "var_list.r",
     "varRefreshCmd": "cat(var_dic_list()) "
    }
   },
   "types_to_exclude": [
    "module",
    "function",
    "builtin_function_or_method",
    "instance",
    "_Feature"
   ],
   "window_display": false
  }
 },
 "nbformat": 4,
 "nbformat_minor": 5
}
