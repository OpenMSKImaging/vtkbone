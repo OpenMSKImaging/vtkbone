{
 "cells": [
  {
   "cell_type": "markdown",
   "id": "327e8aa4-060e-4bf8-93a3-af3441f58f6d",
   "metadata": {
    "jp-MarkdownHeadingCollapsed": true,
    "tags": []
   },
   "source": [
    "# [ORMIR community](https://ormircommunity.github.io/) template for Jupyter Notebook\n",
    "\n",
    "by [Serena Bonaretti](https://sbonaretti.github.io/), [Donnie Cameron](https://www.linkedin.com/in/donnie-cameron-b76bbb63/?originalSubdomain=uk),  [Michelle Alejandra Espinosa Hernandez](https://www.linkedin.com/in/michelleaespinosah/), [Gianluca Iori](https://github.com/gianthk), 2023  \n",
    "Version 1.0   \n",
    "License: CC-BY (please, do not delete the [attribution cell](#attribution) at the end of the notebook!)\n",
    "\n",
    "\n",
    "- In the following, you will find suggestions on how to structure your Jupyter Notebooks\n",
    "- Instructions are in italics, and you can delete them when using this template\n",
    "- Also delete this cell after using this template\n",
    "- For the code, please follow the [style guidelines of the ORMIR community](https://ormircommunity.github.io/for_contributors.html)\n",
    "- See some notebook examples here:\n",
    "  - [Ciclope: Voxel microFE pipeline - trabecular bone](https://github.com/gianthk/ciclope/blob/master/examples/ipynb/ciclope_ex01_voxeluFE_CalculiX.ipynb)\n",
    "  - [MuscleBIDS: DICOM to MuscleBIDS conversion](https://github.com/muscle-bids/muscle-bids/blob/main/jupyter/Muscle-bids_dcm2mbids.ipynb) \n",
    "- **Before sharing the notebook, restart the kernel and rerun all cells**.  The cell numbers should start from 1 and continue incrementally. This will help checking for bugs and making the notebook more **reproducible**\n",
    "\n",
    "\n",
    "---\n",
    "---"
   ]
  },
  {
   "cell_type": "markdown",
   "id": "65a33287",
   "metadata": {
    "jp-MarkdownHeadingCollapsed": true,
    "tags": []
   },
   "source": [
    "# *Notebook title*\n",
    "\n",
    "- By: *list of authors and year; you can add affiliations and link names to webpages*  \n",
    "- Code license: *You can choose among permissive licenses (e.g. BDS, MIT, Apache) or copyleft licenses (e.g. GNU GPL, Mozilla). If you are not familiar with open source licenses, you can browse [choosealicense.com](https://choosealicense.com/licenses/), read the paper [A Quick Guide to Software Licensing for the Scientist-Programmer](https://doi.org/10.1371/journal.pcbi.1002598), or watch [this video (from minute 4)](https://www.youtube.com/watch?v=GlAnKGBnhFY)*\n",
    "- Narrative license: *Possibilities are: CC0, CC-BY, CC-BY-NC, CC-BY-NC-SA, and their combinations. If you are not familiar with Creative Commons, you can browse the [Creative Commons website](https://creativecommons.org/about/cclicenses/) or watch [this video (up to minute 4)](https://www.youtube.com/watch?v=GlAnKGBnhFY)*  \n",
    "- How to cite: *Specify how you want people to cite this notebook. You can refer to a journal publication or a to repository (to know how to make your code citable by connecting a GitHub repository to Zenodo and get a DOI, read this [blog post](https://docs.github.com/en/repositories/archiving-a-github-repository/referencing-and-citing-content) or watch this [video](https://www.youtube.com/watch?v=gp3D4mf6MHQ))*"
   ]
  },
  {
   "cell_type": "markdown",
   "id": "71ad1220-30b7-4cf7-b5c5-6980a46c2426",
   "metadata": {},
   "source": [
    "---\n",
    "# Aims\n",
    "\n",
    "- *Write the aims of your notebook*  \n",
    "- *Briefly explain how you are going to develop your aims*\n",
    "- *For easier navigation, consider adding a table of contents (TOC)*. See how to create a TOC in [Appendix 1](#Appendix-1) at the end of this notebook"
   ]
  },
  {
   "cell_type": "markdown",
   "id": "cad68259",
   "metadata": {},
   "source": [
    "---"
   ]
  },
  {
   "cell_type": "markdown",
   "id": "07e4d8b2",
   "metadata": {},
   "source": [
    "## *Computational workflow*\n",
    "\n",
    "- *Make sure that you **take care of the narrative** of the notebook by:*  \n",
    "  *1. Dividing the workflow into paragraphs and subparagraphs*   \n",
    "  *2. Introducing the functionalities of the code that is written in a subsequent cell*   \n",
    "  *3. Discussing the results after running a cell (whenever applicable)*  "
   ]
  },
  {
   "cell_type": "markdown",
   "id": "17563eea-2138-417d-8307-dbabc4f6ae24",
   "metadata": {},
   "source": [
    "- Installations:  \n",
    "  *If installations are required, write them here*  "
   ]
  },
  {
   "cell_type": "code",
   "execution_count": null,
   "id": "53e48de8-9239-402d-87d5-a6260b07153e",
   "metadata": {},
   "outputs": [],
   "source": []
  },
  {
   "cell_type": "markdown",
   "id": "96c5bb15",
   "metadata": {},
   "source": [
    "- Imports:  \n",
    "  *If some of your imports are optional, consider creating two cells: one for required imports, and one for optional imports*"
   ]
  },
  {
   "cell_type": "code",
   "execution_count": null,
   "id": "4c9e8f26",
   "metadata": {},
   "outputs": [],
   "source": []
  },
  {
   "cell_type": "markdown",
   "id": "15494bf1",
   "metadata": {},
   "source": [
    "- Functions:"
   ]
  },
  {
   "cell_type": "code",
   "execution_count": null,
   "id": "d5284208",
   "metadata": {},
   "outputs": [],
   "source": []
  },
  {
   "cell_type": "markdown",
   "id": "aa7226b3",
   "metadata": {},
   "source": [
    "- Variables and constants:"
   ]
  },
  {
   "cell_type": "code",
   "execution_count": null,
   "id": "ed248244",
   "metadata": {},
   "outputs": [],
   "source": []
  },
  {
   "cell_type": "markdown",
   "id": "0758af7e",
   "metadata": {},
   "source": [
    "- *Workflow*:"
   ]
  },
  {
   "cell_type": "code",
   "execution_count": null,
   "id": "3fd21009",
   "metadata": {},
   "outputs": [],
   "source": []
  },
  {
   "cell_type": "markdown",
   "id": "2e665546",
   "metadata": {},
   "source": [
    "---\n",
    "## Dependencies\n",
    "\n",
    "- *For reproducibility, it is important to document computer setup and software versions*    \n",
    "- *To print out dependencies in Jupyter/Python, you can use the package [watermark](https://github.com/rasbt/watermark), which will print out computer characteristics and software versions*   \n",
    "   - *To install watermark: `pip install watermark` in terminal or `!pip install watermark` in a notebook cell*"
   ]
  },
  {
   "cell_type": "code",
   "execution_count": null,
   "id": "f99ecf6f",
   "metadata": {},
   "outputs": [],
   "source": [
    "%load_ext watermark\n",
    "\n",
    "%watermark\n",
    "%watermark --iversions"
   ]
  },
  {
   "cell_type": "markdown",
   "id": "ded7beea",
   "metadata": {
    "tags": []
   },
   "source": [
    "---\n",
    "<a name=\"ref\"></a>\n",
    "## References\n",
    "\n",
    "- *Where needed, add references to relevant academic articles, websites, and other materials cited above*\n",
    "- *You can add citations manually (if not many) or using the Jupyter extension [sphinxcontrib-bibtex](https://sphinxcontrib-bibtex.readthedocs.io/en/latest/)* "
   ]
  },
  {
   "cell_type": "markdown",
   "id": "e5788198-f84e-4fcb-a339-56485529f7c8",
   "metadata": {
    "tags": []
   },
   "source": [
    "---\n",
    "<a name=\"thanks\"></a>\n",
    "## Acknowledgements\n",
    "\n",
    "- *Acknowledgments to collaborators and funding agencies.*\n",
    "- *Please, do NOT delete the following cell with attribution to the ORMIR community template*"
   ]
  },
  {
   "cell_type": "markdown",
   "id": "745aeeb2-293f-4de8-aa54-acb483c2dee1",
   "metadata": {},
   "source": [
    "---\n",
    "<a name=\"attribution\"></a>\n",
    "\n",
    "Notebook created using the [template](https://github.com/ORMIRcommunity/templates/blob/main/ORMIR_nb_template.ipynb) of the [ORMIR community](https://ormircommunity.github.io/) (version 1.0, 2023)"
   ]
  },
  {
   "cell_type": "markdown",
   "id": "5b01c3ea-44f4-49c8-b148-272f0518d04a",
   "metadata": {},
   "source": [
    "---\n",
    "---\n",
    "\n",
    "## Appendix 1\n",
    "\n",
    "*Delete this cell when releasing the notebook!*\n",
    "\n",
    "**Instructions on how to create a TOC**  \n",
    "*You can create a TOC by using:* \n",
    "  - *markdown*\n",
    "    - *In the TOC, for each paragraph title (or subtitle) of your notebook, add: (1) the title between square brackets `[]`, and (2) a corresponding modified title between round brackets `()`. The modified title (a) starts with an hash symbol `#`, and (b) substitutes each space with a dash `-`*\n",
    "  - *html* \n",
    "    - *In the TOC, for each paragraph title (or subtitle) of your notebook, add: (1) the title between square brackets `[]`, and (2) an hash symbol `#` followed by any proper keyword between round brackets `()`*\n",
    "    - *Right above each title, add the html code containing the keywork without hastag (`<a name=\"keyword\"></a>`)*\n",
    "  \n",
    "*In words, it sounds more complicated than it is! See the following table of content as an example. Double click on it to check the code. The first two entries are written in markdown and the last two in html. Also, double click on the cells containing the titles References and Acknowledgements to see the html code* \n",
    "\n",
    "  \n",
    "  \n",
    "  **Table of content**  \n",
    "  [Computational workflow](#Computational-workflow)   \n",
    "  [Dependencies](#Dependencies)  \n",
    "  [References](#ref)  \n",
    "  [Acknowledgments](#thanks)\n",
    "  \n",
    "  \n",
    "*Notes:*\n",
    "- *You can automatically visualize a TOC in JupyterLab using the extension [jupyterlab-toc](https://jupyterlab.readthedocs.io/en/stable/user/toc.html). However the TOC will not be visible when opening a notebook in Jupyter Notebook or when the notebook is saved in another format (e.g. .pdf, .html)* \n",
    "- *These instructions are valid for any internal link (e.g. Bibliografic references, or \"as described in the [Aims](#Aims))*\n"
   ]
  }
 ],
 "metadata": {
  "kernelspec": {
   "display_name": "Python 3 (ipykernel)",
   "language": "python",
   "name": "python3"
  },
  "language_info": {
   "codemirror_mode": {
    "name": "ipython",
    "version": 3
   },
   "file_extension": ".py",
   "mimetype": "text/x-python",
   "name": "python",
   "nbconvert_exporter": "python",
   "pygments_lexer": "ipython3",
   "version": "3.9.13"
  }
 },
 "nbformat": 4,
 "nbformat_minor": 5
}
