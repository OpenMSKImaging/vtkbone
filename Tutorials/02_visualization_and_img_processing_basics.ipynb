{
 "cells": [
  {
   "cell_type": "markdown",
   "metadata": {},
   "source": [
    "# Visualize interactively AIM images using the k3d library"
   ]
  },
  {
   "cell_type": "markdown",
   "metadata": {},
   "source": [
    "This notebook is intended to guide you through the process of visualizing and apply basic image processing operations to the AIM images loaded via the ``vtkbone`` library.\n",
    "As the ``vtkbone`` library is meant for IO operations, a visualization package is outside of the scope of the library. However, we provide informations on the usage of a compatible library, ``k3d``, which integrate seamlessly with the vtk image data structure."
   ]
  },
  {
   "cell_type": "markdown",
   "metadata": {},
   "source": [
    "## Step 1: Import necessary packages"
   ]
  },
  {
   "cell_type": "code",
   "execution_count": null,
   "metadata": {},
   "outputs": [],
   "source": [
    "import functools\n",
    "from pathlib import Path\n",
    "\n",
    "import k3d\n",
    "import matplotlib.pyplot as plt\n",
    "import matplotlib.gridspec as gridspec\n",
    "import numpy as np\n",
    "import SimpleITK as sitk\n",
    "import vtk\n",
    "\n",
    "import vtkbone\n",
    "from python_helpers.vtk_util import vtkImageData_to_numpy, numpy_to_vtkImageData"
   ]
  },
  {
   "cell_type": "markdown",
   "metadata": {},
   "source": [
    "### Get the k3d package if not already installed"
   ]
  },
  {
   "cell_type": "code",
   "execution_count": null,
   "metadata": {},
   "outputs": [],
   "source": [
    "%pip install k3d"
   ]
  },
  {
   "cell_type": "markdown",
   "metadata": {},
   "source": [
    "## Step 2: Read the image using ``vtkbone``"
   ]
  },
  {
   "cell_type": "code",
   "execution_count": null,
   "metadata": {},
   "outputs": [],
   "source": [
    "# Give the path to your AIM file\n",
    "impath = Path('../../IMG1237.AIM')\n",
    "segpath = Path('../../IMG1237_SEG.AIM')"
   ]
  },
  {
   "cell_type": "markdown",
   "metadata": {},
   "source": [
    "We first read the 3D image from an AIM file using the ``vtkboneAIMReader``. The read_image function is decorated with ``@print_image_info`` to print the image's properties (spacing, origin, dimensions, byte format) upon reading."
   ]
  },
  {
   "cell_type": "code",
   "execution_count": null,
   "metadata": {},
   "outputs": [],
   "source": [
    "# decorator that print informations such as spacing, origin, dimensions, byte format\n",
    "def print_image_info(func):\n",
    "    @functools.wraps(func)\n",
    "    def wrapper(*args, **kwargs):\n",
    "        image = func(*args, **kwargs)\n",
    "        spacing = image.GetSpacing()\n",
    "        origin = image.GetOrigin()\n",
    "        dimensions = image.GetDimensions()\n",
    "        byte_format = image.GetScalarTypeAsString()\n",
    "\n",
    "        print(\"Image Informations:\")\n",
    "        print(f\"Spacing: {np.round(spacing, 3)}\")\n",
    "        print(f\"Origin: {np.round(origin, 3)}\")\n",
    "        print(f\"Dimensions: {dimensions}\")\n",
    "        print(f\"Byte Format: {byte_format}\")\n",
    "\n",
    "        return image\n",
    "    \n",
    "    return wrapper"
   ]
  },
  {
   "cell_type": "markdown",
   "metadata": {},
   "source": [
    "We then define and apply the function ``read_image()`` to read the image from the AIM file. Please refer to notebook [**01_reading_in_aims**](01_reading_in_aims.ipynb)\n",
    " for more details on the ``vtkboneAIMReader``."
   ]
  },
  {
   "cell_type": "code",
   "execution_count": null,
   "metadata": {},
   "outputs": [],
   "source": [
    "@print_image_info\n",
    "def read_image(aim_path: Path):\n",
    "    \"\"\"\n",
    "    Read a 3D image from a file using the vtkboneAIMReader to read a 3D image from a file in the AIM format. \n",
    "\n",
    "    Parameters:\n",
    "    aim_path (Path): The path to the AIM file to read.\n",
    "\n",
    "    Returns:\n",
    "    vtkImageData: The 3D image read from the file.\n",
    "    \"\"\"\n",
    "    print(f'Reading file: {aim_path}')\n",
    "    reader = vtkbone.vtkboneAIMReader()\n",
    "    reader.DataOnCellsOff()\n",
    "    reader.SetFileName(str(aim_path.resolve()))\n",
    "    reader.Update()\n",
    "    return reader.GetOutput()\n",
    "\n",
    "# execute the function\n",
    "image = read_image(impath)\n",
    "image_seg = read_image(segpath)"
   ]
  },
  {
   "cell_type": "markdown",
   "metadata": {},
   "source": [
    "## Step 3: Visualize the image using ``k3d``\n",
    "### Step 3.1: Convert the image to a numpy array"
   ]
  },
  {
   "cell_type": "markdown",
   "metadata": {},
   "source": [
    "In this conversion step, we return a numpy array containing the informations of the image. VTK images are indexed in the order [x, y, z], while numpy array are indexed in the opposite order [z, y, x]. We therefore need to reverse the order of the dimensions of the image."
   ]
  },
  {
   "cell_type": "code",
   "execution_count": null,
   "metadata": {},
   "outputs": [],
   "source": [
    "def image2np(image):\n",
    "    # Use python_helpers.vtk_util to convert vtkImageData to numpy array\n",
    "    imnp = vtkImageData_to_numpy(image)\n",
    "    # Transpose and flip the array to have the same indexing and direction as the original AIM image\n",
    "    imnp = np.transpose(imnp, (2, 1, 0))\n",
    "    imnp = np.flip(imnp, axis=2)\n",
    "    # Enforce float16 type (best for k3d)\n",
    "    imnp = imnp.astype(np.float16)\n",
    "    return imnp\n",
    "\n",
    "imnp = image2np(image)\n",
    "imnp_seg = image2np(image_seg)"
   ]
  },
  {
   "cell_type": "markdown",
   "metadata": {},
   "source": [
    "### Step 3.2: Get information about the image for visualization\n",
    "\n",
    "We then want to include some image information in the visualization. We therefore get the spacing, origin, and dimensions of the image to create a transformation matrix that will be used to correctly position the image in the visualization."
   ]
  },
  {
   "cell_type": "code",
   "execution_count": null,
   "metadata": {},
   "outputs": [],
   "source": [
    "# Extract spacing, origin, and dimensions from a vtkImageData object. These are important properties that describe the resolution, position, and physical size of the image.\n",
    "spacing = image.GetSpacing()\n",
    "origin = image.GetOrigin()\n",
    "dimensions = image.GetDimensions()"
   ]
  },
  {
   "cell_type": "markdown",
   "metadata": {},
   "source": [
    "Generate a transformation matrix for a 3D image. This function takes the spacing, origin, and dimensions of a 3D image and generates a transformation matrix.  This matrix can be used to transform the voxel coordinates of the image to world coordinates."
   ]
  },
  {
   "cell_type": "code",
   "execution_count": null,
   "metadata": {},
   "outputs": [],
   "source": [
    "transform_matrix = np.array([\n",
    "    [spacing[0] * dimensions[0], 0, 0, origin[0]],\n",
    "    [0, spacing[1] * dimensions[1], 0, origin[1]],\n",
    "    [0, 0, spacing[2] * dimensions[2], origin[2]],\n",
    "    [0, 0, 0, 1]\n",
    "])"
   ]
  },
  {
   "cell_type": "markdown",
   "metadata": {},
   "source": [
    "In order to decide which range of intensities we want to visualize, plotting the histogram of the image is a good way to get an idea of the distribution of the intensities."
   ]
  },
  {
   "cell_type": "code",
   "execution_count": null,
   "metadata": {},
   "outputs": [],
   "source": [
    "plt.figure(figsize=(10, 5))\n",
    "plt.hist(imnp.flatten(), bins=100)\n",
    "plt.title('Histogram of the image')\n",
    "plt.show()"
   ]
  },
  {
   "cell_type": "markdown",
   "metadata": {},
   "source": [
    "For instance, the code snippet below takes into account different cases for the type of images that we read. If the image is a native greyscale, then a good vmin to use as a starting point would be ``vmin = 3000``. If the image is a greyscale with a range of intensities, then we can use the minimum intensity as the starting point. If the image is a mask, the minimum intensity would be ``0`` and the maximum intensity would be ``127``."
   ]
  },
  {
   "cell_type": "code",
   "execution_count": null,
   "metadata": {},
   "outputs": [],
   "source": [
    "# We take the numpy array representing the image and calculates the minimum and maximum intensity values for that image.\n",
    "# These values can be used for setting the intensity range when visualizing the image.\n",
    "# We can also overwrite these or modify them directly in the k3d controls later on.\n",
    "\n",
    "# Calculate the minimum and maximum intensity values for a numpy array.\n",
    "intensity_min = np.min(imnp)\n",
    "intensity_max = np.max(imnp)\n",
    "\n",
    "if intensity_max > 1:\n",
    "    vmin = 0.01\n",
    "    if intensity_max > 127:\n",
    "        vmin = 3000\n",
    "vmax = intensity_max"
   ]
  },
  {
   "cell_type": "markdown",
   "metadata": {},
   "source": [
    "### Step 3.3: Create the visualization"
   ]
  },
  {
   "cell_type": "code",
   "execution_count": null,
   "metadata": {},
   "outputs": [],
   "source": [
    "IMG_SUPERPOSITION = True\n",
    "\n",
    "transform_s = k3d.transform(custom_matrix=transform_matrix)\n",
    "\n",
    "# Instantiate the volume plot using k3d-jupyter\n",
    "plt_volume = k3d.volume(imnp,\n",
    "                        transform=transform_s,\n",
    "                        color_map=k3d.colormaps.basic_color_maps.Binary,\n",
    "                        samples=256,\n",
    "                        alpha_coef=150,\n",
    "                        color_range=[vmin, vmax])\n",
    "plot = k3d.plot()\n",
    "plot += plt_volume\n",
    "\n",
    "if IMG_SUPERPOSITION:\n",
    "    plt_super = k3d.volume(imnp_seg,\n",
    "                        transform=transform_s,\n",
    "                        color_map=k3d.colormaps.basic_color_maps.Blues,\n",
    "                        samples=256,\n",
    "                        alpha_coef=2,\n",
    "                        color_range=[0, 127])\n",
    "    plot += plt_super\n",
    "\n",
    "# Display the plot inline\n",
    "plot.display()"
   ]
  },
  {
   "cell_type": "markdown",
   "metadata": {},
   "source": [
    "# Visualize AIM image slices using the matplotlib library"
   ]
  },
  {
   "cell_type": "markdown",
   "metadata": {},
   "source": [
    "Matplotlib is a powerful library for creating static, animated, and interactive visualizations in Python. Here's how you can use it to visualize slices of an AIM image. Assume you have a 3D numpy array image representing your AIM image. You can get slices of this image like so:"
   ]
  },
  {
   "cell_type": "code",
   "execution_count": null,
   "metadata": {},
   "outputs": [],
   "source": [
    "slice1 = imnp[50, :, :]  # Slice at index 50 along the x-axis\n",
    "slice2 = imnp[:, 100, :]  # Slice at index 50 along the y-axis\n",
    "slice3 = imnp[:, :, 100]  # Slice at index 50 along the z-axis"
   ]
  },
  {
   "cell_type": "markdown",
   "metadata": {},
   "source": [
    "Now, you can use matplotlib to visualize these slices in 3 rows:"
   ]
  },
  {
   "cell_type": "code",
   "execution_count": null,
   "metadata": {},
   "outputs": [],
   "source": [
    "def imshow_2d(im_sitk: sitk.Image, idx_x: int = 50, idx_y: int = 100, idx_z: int = 100):\n",
    "    def sitk_to_numpy(image: sitk.Image, preserve_indexing: bool = False):\n",
    "        if preserve_indexing:\n",
    "            imnp = sitk.GetArrayFromImage(image)\n",
    "            return imnp\n",
    "        else:\n",
    "            return sitk.GetArrayFromImage(image)\n",
    "\n",
    "    imnp = sitk_to_numpy(im_sitk, preserve_indexing=True)\n",
    "    slice1 = imnp[idx_x, :, :]  # Slice at index 50 along the x-axis\n",
    "    slice3 = imnp[:, :, idx_z]  # Slice at index 50 along the z-axis\n",
    "    slice2 = imnp[:, idx_y, :]  # Slice at index 50 along the y-axis\n",
    "    # Create a 2x2 grid\n",
    "    gs = gridspec.GridSpec(2, 2)\n",
    "\n",
    "    fig = plt.figure(figsize=(10, 8))\n",
    "    ax0 = fig.add_subplot(gs[:, 0])  # This subplot spans two rows and one column\n",
    "    ax1 = fig.add_subplot(gs[0, 1])  # This subplot is in the first row and second column\n",
    "    ax2 = fig.add_subplot(gs[1, 1])  # This subplot is in the second row and second column\n",
    "\n",
    "    ax0.imshow(slice1, cmap='gray')\n",
    "    ax1.imshow(slice2, cmap='gray')\n",
    "    ax2.imshow(slice3, cmap='gray')\n",
    "\n",
    "    ax0.set_title(f'Slice {idx_x} along x-axis')\n",
    "    ax1.set_title(f'Slice {idx_y} along y-axis')\n",
    "    ax2.set_title(f'Slice {idx_z} along z-axis')\n",
    "\n",
    "    plt.suptitle(f'Plotting slices of the image', weight='bold', fontsize=16)\n",
    "    plt.show()\n",
    "    return None\n",
    "\n",
    "half_x = int(imnp.shape[0] / 2)\n",
    "half_y = int(imnp.shape[1] / 2)\n",
    "half_z = int(imnp.shape[2] / 2)\n",
    "\n",
    "# convert vtk to simpleitk image\n",
    "imsitk = sitk.GetImageFromArray(imnp.astype(np.float32))\n",
    "imshow_2d(imsitk, idx_x=half_x, idx_y=half_y, idx_z=half_z)"
   ]
  },
  {
   "cell_type": "markdown",
   "metadata": {},
   "source": [
    "and so on..."
   ]
  },
  {
   "cell_type": "code",
   "execution_count": null,
   "metadata": {},
   "outputs": [],
   "source": [
    "# does this vtk image has a direction argument?\n",
    "image.GetInformation().Get(vtk.vtk)"
   ]
  },
  {
   "cell_type": "code",
   "execution_count": null,
   "metadata": {},
   "outputs": [],
   "source": [
    "image.GetAttributes()"
   ]
  },
  {
   "cell_type": "code",
   "execution_count": null,
   "metadata": {},
   "outputs": [],
   "source": []
  },
  {
   "cell_type": "code",
   "execution_count": null,
   "metadata": {},
   "outputs": [],
   "source": []
  }
 ],
 "metadata": {
  "kernelspec": {
   "display_name": "testing",
   "language": "python",
   "name": "python3"
  },
  "language_info": {
   "codemirror_mode": {
    "name": "ipython",
    "version": 3
   },
   "file_extension": ".py",
   "mimetype": "text/x-python",
   "name": "python",
   "nbconvert_exporter": "python",
   "pygments_lexer": "ipython3",
   "version": "3.7.12"
  }
 },
 "nbformat": 4,
 "nbformat_minor": 2
}
