{
 "cells": [
  {
   "cell_type": "markdown",
   "id": "4137bedf",
   "metadata": {},
   "source": [
    "\n",
    "# Tutorial 3: Manipulating header metadata information and saving as .AIM\n",
    "\n",
    "Author: *Dr. Matthias Walle*\n",
    "<br>Created: *17 Jan 2024*\n",
    "<br>Last Modified: *17 Jan 2024*\n",
    "\n",
    "In this tutorial, we will go through the process of reading, processing, and saving an AIM file (Scanco) using `vtkbone` and `vtk`. We will show \n",
    "\n",
    "1) How to manipulate the processing log: This could be useful if you are trying to re-calibrate your images (e.g multicenter studies) \n",
    "2) How to manipulate an image using `vtk` and then append the changes made to your processing log\n",
    "3) How to save the manipulated image again as an AIM file. \n",
    "\n",
    " An AIM file typically includes a pre-header, image structure, processing log, image data, and associated image data, each organized into distinct blocks. The pre-header contains key information about the file's structure, while the image structure data (D3AnyImage) comprises various components like version, type, and dimensions. The processing log records all procedures applied to the image, offering valuable insights into the data processing history. \n",
    " \n",
    " Importantly, even when images are processed outside the VMS system we should always record changes and modifications in the processing log for proper documentation. Further, parameters in the processing log can influence the anlaysis of the aim files (e.g. density calibration)\n",
    " \n",
    " Image data and associated image data are stored in specific formats, often requiring byte order considerations on different platforms. Further, mainly 3 main datatypes exist:\n",
    "\n",
    " 1) D1Tchar (1 byte): Typically used for masks and segmentations\n",
    " 2) D1Tshort (2 bytes): Typically used for measurements (native scanner units)\n",
    " 3) D3float (4 bytes): Typically used for finite element analysis\n",
    "\n",
    " "
   ]
  },
  {
   "cell_type": "markdown",
   "id": "c7f198d5",
   "metadata": {},
   "source": [
    "# Import required libraries "
   ]
  },
  {
   "cell_type": "code",
   "execution_count": 1,
   "id": "edf3bf28",
   "metadata": {},
   "outputs": [],
   "source": [
    "from python_helpers.format_aim_header import logtodict, dicttolog\n",
    "\n",
    "import numpy as np\n",
    "import sys\n",
    "import os\n",
    "import vtk\n",
    "import vtkbone"
   ]
  },
  {
   "cell_type": "markdown",
   "id": "f6619d6d",
   "metadata": {},
   "source": [
    "## Setup and Read the Image\n",
    "\n",
    "First, we'll read an image from a given file. We'll use `vtkbone.vtkboneAIMReader` for this purpose."
   ]
  },
  {
   "cell_type": "code",
   "execution_count": 2,
   "id": "083c3c32",
   "metadata": {},
   "outputs": [
    {
     "name": "stdout",
     "output_type": "stream",
     "text": [
      "Reading file: ./data/TRAB_1240.AIM\n"
     ]
    }
   ],
   "source": [
    "input_aim = './data/TRAB_1240.AIM'\n",
    "\n",
    "print(f'Reading file: {input_aim}')\n",
    "reader = vtkbone.vtkboneAIMReader()\n",
    "reader.DataOnCellsOff()\n",
    "reader.SetFileName(input_aim)\n",
    "reader.Update()\n",
    "image = reader.GetOutput()"
   ]
  },
  {
   "cell_type": "markdown",
   "id": "496b02b7",
   "metadata": {},
   "source": [
    "\n",
    "## Process and Print the Log\n",
    "\n",
    "We will extract the processing log from the image and then make some modifications to it. Modifications to the calibration equation of the processing log will affect the density evaluation on the VMS/IPL system and could therefore be used to re-calibrate your image data. This could be useful for multicenter studies or to correct for long term scanner drift. \n"
   ]
  },
  {
   "cell_type": "code",
   "execution_count": 3,
   "id": "75b74853",
   "metadata": {},
   "outputs": [
    {
     "name": "stdout",
     "output_type": "stream",
     "text": [
      "! Processing Log\n",
      "!\n",
      "!-------------------------------------------------------------------------------\n",
      "Created by                    N88_VTKBONE                                       \n",
      "Time                          9-APR-2017 15:44:30.45                            \n",
      "Original file                 dk0:[xtremect2.data.00001240.00005725]d0005707.isq;\n",
      "Original Creation-Date        20-SEP-2016 13:37:57.73                           \n",
      "Orig-ISQ-Dim-p                      2304       2304        335\n",
      "Orig-ISQ-Dim-um                   139852     139852      20334\n",
      "!-------------------------------------------------------------------------------\n",
      "Patient Name                  DBQ_153                                           \n",
      "Index Patient                                    1240\n",
      "Index Measurement                                5725\n",
      "!-------------------------------------------------------------------------------\n",
      "Site                                               21\n",
      "Scanner ID                                       3401\n",
      "Scanner type                                        9\n",
      "Position Slice 1 [um]                          180258\n",
      "No. samples                                      2304\n",
      "No. projections per 180                           900\n",
      "Scan Distance [um]                             139852\n",
      "Integration time [us]                           43000\n",
      "Reference line [um]                            170758\n",
      "Reconstruction-Alg.                                 3\n",
      "Energy [V]                                      68000\n",
      "Intensity [uA]                                   1470\n",
      "Angle-Offset [mdeg]                                 0\n",
      "Default-Eval                                      111\n",
      "!-------------------------------------------------------------------------------\n",
      "Mu_Scaling                                       8192\n",
      "Calibration Data              68 kVp, BH: 200 mg HA/ccm, Scaling 8192, 0.2 CU   \n",
      "Calib. default unit type      2 (Density)                                       \n",
      "Density: unit                 mg HA/ccm                                         \n",
      "Density: slope                             1662.52405\n",
      "Density: intercept                               -400\n",
      "HU: mu water                                   0.2366\n",
      "!-------------------------------------------------------------------------------\n",
      "Parameter name                Linear Attenuation                                \n",
      "Parameter units               [1/cm]                                            \n",
      "Minimum value                                -0.07019\n",
      "Maximum value                                 0.97144\n",
      "Average value                                 0.30425\n",
      "Standard deviation                            0.11469\n",
      "Scaled by factor                                 8192\n",
      "Minimum data value                             -575.0\n",
      "Maximum data value                             7958.0\n",
      "Average data value                         2492.40747\n",
      "Standard data deviation                     939.54169\n",
      "!-------------------------------------------------------------------------------\n",
      "Original Density: intercept               -398.609009\n",
      "\n"
     ]
    }
   ],
   "source": [
    "# Use the GetProcessingLog function to extract the processing log\n",
    "processing_log = reader.GetProcessingLog()\n",
    "\n",
    "# We can use this helper function to convert the processing log to a python dictionary\n",
    "processing_log_dict = logtodict(processing_log)\n",
    "\n",
    "# Make sure to document that this file has been processed outside the VMS server\n",
    "processing_log_dict['Created by'] = 'N88_VTKBONE'\n",
    "\n",
    "# Before you change the calibration equation make sure to save the original data \n",
    "processing_log_dict['Original Density: intercept'] = processing_log_dict['Density: intercept']\n",
    "\n",
    "# Now you can manipulate the your calibration equation. \n",
    "# Putting this aim file back to the VMS will change your density analysis\n",
    "processing_log_dict['Density: intercept'] = -400\n",
    "\n",
    "# To convert the processing log back to its original format we can use the dicttolog function\n",
    "print(dicttolog(processing_log_dict))"
   ]
  },
  {
   "cell_type": "markdown",
   "id": "afefdd12",
   "metadata": {},
   "source": [
    "\n",
    "## Apply Gaussian Smoothing\n",
    "\n",
    "Next, we'll apply a Gaussian smoothing filter to the image. This is a common preprocessing step in image analysis.\n"
   ]
  },
  {
   "cell_type": "code",
   "execution_count": 4,
   "id": "db9b70e9",
   "metadata": {},
   "outputs": [],
   "source": [
    "# Best Practice: Make sure to add to the processing log if you perform changes \n",
    "# To your imaging data! The processing log will be appended. This will not affect \n",
    "# the function in IPL or on the VMS but only be useful for future users to understand\n",
    "# your data! \n",
    "\n",
    "processing_log_dict['Gauss Filter (sigma)'] = 1.2\n",
    "\n",
    "# For more information on VTK processing see the VTK documentation! \n",
    "gaussian_smooth = vtk.vtkImageGaussianSmooth()\n",
    "gaussian_smooth.SetInputData(image)\n",
    "gaussian_smooth.SetStandardDeviation(1.2)  \n",
    "gaussian_smooth.Update()\n",
    "\n",
    "# Our output image contains the filtered image\n",
    "output_image = gaussian_smooth.GetOutput()"
   ]
  },
  {
   "cell_type": "markdown",
   "id": "172a34ec",
   "metadata": {},
   "source": [
    "\n",
    "## Save the Processed Image\n",
    "\n",
    "Finally, we will save the processed image and its updated processing log.\n"
   ]
  },
  {
   "cell_type": "code",
   "execution_count": 5,
   "id": "6015d06e",
   "metadata": {},
   "outputs": [],
   "source": [
    "# We can now use the VTK bone writer to write our AIM file with the manipulated header to the following path\n",
    "output_aim = './data/TRAB_1240_MANIPULATED_HEADER.AIM'\n",
    "\n",
    "\n",
    "# Make sure to write the image in native (scanner) units! See the tutorials for unit conversion!\n",
    "writer = vtkbone.vtkboneAIMWriter()\n",
    "writer.SetInputData(output_image)\n",
    "writer.SetFileName(output_aim)\n",
    "writer.NewProcessingLogOff() # This needs to be turned off if you provide your own log! \n",
    "writer.SetProcessingLog(dicttolog(processing_log_dict))\n",
    "writer.Update()"
   ]
  },
  {
   "cell_type": "markdown",
   "id": "8e9885a0",
   "metadata": {},
   "source": [
    "\n",
    "## Test the Result\n",
    "\n",
    "As a final step, let's read back the saved image and print its processing log to ensure everything went as expected.\n"
   ]
  },
  {
   "cell_type": "code",
   "execution_count": 6,
   "id": "956190a5",
   "metadata": {},
   "outputs": [
    {
     "name": "stdout",
     "output_type": "stream",
     "text": [
      "! Processing Log\n",
      "!\n",
      "!-------------------------------------------------------------------------------\n",
      "Created by                    N88_VTKBONE                                       \n",
      "Time                          9-APR-2017 15:44:30.45                            \n",
      "Original file                 dk0:[xtremect2.data.00001240.00005725]d0005707.isq;\n",
      "Original Creation-Date        20-SEP-2016 13:37:57.73                           \n",
      "Orig-ISQ-Dim-p                      2304       2304        335\n",
      "Orig-ISQ-Dim-um                   139852     139852      20334\n",
      "!-------------------------------------------------------------------------------\n",
      "Patient Name                  DBQ_153                                           \n",
      "Index Patient                                    1240\n",
      "Index Measurement                                5725\n",
      "!-------------------------------------------------------------------------------\n",
      "Site                                               21\n",
      "Scanner ID                                       3401\n",
      "Scanner type                                        9\n",
      "Position Slice 1 [um]                          180258\n",
      "No. samples                                      2304\n",
      "No. projections per 180                           900\n",
      "Scan Distance [um]                             139852\n",
      "Integration time [us]                           43000\n",
      "Reference line [um]                            170758\n",
      "Reconstruction-Alg.                                 3\n",
      "Energy [V]                                      68000\n",
      "Intensity [uA]                                   1470\n",
      "Angle-Offset [mdeg]                                 0\n",
      "Default-Eval                                      111\n",
      "!-------------------------------------------------------------------------------\n",
      "Mu_Scaling                                       8192\n",
      "Calibration Data              68 kVp, BH: 200 mg HA/ccm, Scaling 8192, 0.2 CU   \n",
      "Calib. default unit type      2 (Density)                                       \n",
      "Density: unit                 mg HA/ccm                                         \n",
      "Density: slope                             1662.52405\n",
      "Density: intercept                               -400\n",
      "HU: mu water                                   0.2366\n",
      "!-------------------------------------------------------------------------------\n",
      "Parameter name                Linear Attenuation                                \n",
      "Parameter units               [1/cm]                                            \n",
      "Minimum value                                -0.07019\n",
      "Maximum value                                 0.97144\n",
      "Average value                                 0.30425\n",
      "Standard deviation                            0.11469\n",
      "Scaled by factor                                 8192\n",
      "Minimum data value                             -575.0\n",
      "Maximum data value                             7958.0\n",
      "Average data value                         2492.40747\n",
      "Standard data deviation                     939.54169\n",
      "!-------------------------------------------------------------------------------\n",
      "Original Density: intercept               -398.609009\n",
      "Gauss Filter (sigma)                              1.2\n",
      "\n"
     ]
    }
   ],
   "source": [
    "# Read in our manipulated image\n",
    "reader = vtkbone.vtkboneAIMReader()\n",
    "reader.DataOnCellsOff()\n",
    "reader.SetFileName(output_aim)\n",
    "reader.Update()\n",
    "image = reader.GetOutput()\n",
    "\n",
    "# Check the processing log of our manipulated image\n",
    "processing_log = reader.GetProcessingLog()\n",
    "print(processing_log)       "
   ]
  }
 ],
 "metadata": {
  "kernelspec": {
   "display_name": "vtkbone",
   "language": "python",
   "name": "python3"
  },
  "language_info": {
   "codemirror_mode": {
    "name": "ipython",
    "version": 3
   },
   "file_extension": ".py",
   "mimetype": "text/x-python",
   "name": "python",
   "nbconvert_exporter": "python",
   "pygments_lexer": "ipython3",
   "version": "3.7.12"
  }
 },
 "nbformat": 4,
 "nbformat_minor": 5
}
