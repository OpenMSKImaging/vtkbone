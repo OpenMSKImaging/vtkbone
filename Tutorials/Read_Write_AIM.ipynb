{
 "cells": [
  {
   "cell_type": "markdown",
   "id": "4137bedf",
   "metadata": {},
   "source": [
    "\n",
    "# Reading and Writing Aim Files Tutorial\n",
    "\n",
    "In this tutorial, we will go through the process of reading, processing, and saving an AIM file (Scanco) using `vtkbone` and `vtk`. We will apply a Gaussian filter to smooth the image and then save the processed image along with its processing log.\n"
   ]
  },
  {
   "cell_type": "code",
   "execution_count": 4,
   "id": "edf3bf28",
   "metadata": {},
   "outputs": [],
   "source": [
    "\n",
    "import vtk\n",
    "import vtkbone\n",
    "import numpy as np\n",
    "import sys\n",
    "import os\n",
    "\n",
    "# Find the path to the 'python_helpers' directory\n",
    "notebook_directory = os.getcwd()  # Gets the current working directory where the notebook is\n",
    "helpers_path = os.path.join(notebook_directory, 'python_helpers')\n",
    "\n",
    "# Add this directory to sys.path\n",
    "if helpers_path not in sys.path:\n",
    "    sys.path.append(helpers_path)\n",
    "\n",
    "# Now you can import your module or functions\n",
    "from format_aim_header import logtodict, dicttolog"
   ]
  },
  {
   "cell_type": "markdown",
   "id": "f6619d6d",
   "metadata": {},
   "source": [
    "## Setup and Read the Image\n",
    "\n",
    "First, we'll read an image from a given file. We'll use `vtkbone.vtkboneAIMReader` for this purpose."
   ]
  },
  {
   "cell_type": "code",
   "execution_count": 5,
   "id": "083c3c32",
   "metadata": {},
   "outputs": [
    {
     "name": "stdout",
     "output_type": "stream",
     "text": [
      "Reading file: /Users/matthiaswalle/Downloads/IMG1237.AIM\n"
     ]
    }
   ],
   "source": [
    "\n",
    "input_aim = '/Users/matthiaswalle/Downloads/IMG1237.AIM'\n",
    "\n",
    "print(f'Reading file: {input_aim}')\n",
    "reader = vtkbone.vtkboneAIMReader()\n",
    "reader.DataOnCellsOff()\n",
    "reader.SetFileName(input_aim)\n",
    "reader.Update()\n",
    "image = reader.GetOutput()"
   ]
  },
  {
   "cell_type": "markdown",
   "id": "496b02b7",
   "metadata": {},
   "source": [
    "\n",
    "## Process and Print the Log\n",
    "\n",
    "We will extract the processing log from the image and then make some modifications to it.\n"
   ]
  },
  {
   "cell_type": "code",
   "execution_count": 7,
   "id": "75b74853",
   "metadata": {},
   "outputs": [
    {
     "name": "stdout",
     "output_type": "stream",
     "text": [
      "!\n",
      "! Processing Log\n",
      "!\n",
      "!-------------------------------------------------------------------------------\n",
      "Created by                    ISQ_TO_AIM (IPL)                                  \n",
      "Time                          16-APR-2017 20:20:59.67                           \n",
      "Original file                 dk0:[xtremect2.data.00001237.00005697]d0005679.isq;\n",
      "Original Creation-Date        14-SEP-2016 15:27:12.18                           \n",
      "Orig-ISQ-Dim-p                                   2304       2304        168\n",
      "Orig-ISQ-Dim-um                                139852     139852      10197\n",
      "!-------------------------------------------------------------------------------\n",
      "Patient Name                  DBQ_152                                           \n",
      "Index Patient                                    1237\n",
      "Index Measurement                                5697\n",
      "!-------------------------------------------------------------------------------\n",
      "Site                                               20\n",
      "Scanner ID                                       3401\n",
      "Scanner type                                        9\n",
      "Position Slice 1 [um]                          166250\n",
      "No. samples                                      2304\n",
      "No. projections per 180                           900\n",
      "Scan Distance [um]                             139852\n",
      "Integration time [us]                           43000\n",
      "Reference line [um]                            156750\n",
      "Reconstruction-Alg.                                 3\n",
      "Energy [V]                                      68000\n",
      "Intensity [uA]                                   1470\n",
      "Angle-Offset [mdeg]                                 0\n",
      "Default-Eval                                      111\n",
      "!-------------------------------------------------------------------------------\n",
      "Mu_Scaling                                       8192\n",
      "Calibration Data              68 kVp, BH: 200 mg HA/ccm, Scaling 8192, 0.2 CU   \n",
      "Calib. default unit type      2 (Density)                                       \n",
      "Density: unit                 mg HA/ccm                                         \n",
      "Density: slope                         1.66252405e+03\n",
      "Density: intercept                    -3.98609009e+02\n",
      "HU: mu water                                  0.23660\n",
      "!-------------------------------------------------------------------------------\n",
      "Parameter name                Linear Attenuation                                \n",
      "Parameter units               [1/cm]                                            \n",
      "Minimum value                                -0.19946\n",
      "Maximum value                                 1.22742\n",
      "Average value                                 0.30119\n",
      "Standard deviation                            0.14001\n",
      "Scaled by factor                                 8192\n",
      "Minimum data value                        -1634.00000\n",
      "Maximum data value                        10055.00000\n",
      "Average data value                         2467.32495\n",
      "Standard data deviation                    1146.94397\n",
      "!-------------------------------------------------------------------------------\n",
      "\n"
     ]
    }
   ],
   "source": [
    "\n",
    "processing_log = reader.GetProcessingLog()\n",
    "processing_log_dict = logtodict(processing_log)\n",
    "print(processing_log)\n",
    "\n",
    "\n",
    "# Add to the processing log\n",
    "processing_log_dict['Created by'] = 'N88_VTKBONE'\n",
    "processing_log_dict['Original Density: intercept'] = processing_log_dict['Density: intercept']\n",
    "processing_log_dict['Density: intercept'] = -400\n",
    "\n"
   ]
  },
  {
   "cell_type": "markdown",
   "id": "afefdd12",
   "metadata": {},
   "source": [
    "\n",
    "## Apply Gaussian Smoothing\n",
    "\n",
    "Next, we'll apply a Gaussian smoothing filter to the image. This is a common preprocessing step in image analysis.\n"
   ]
  },
  {
   "cell_type": "code",
   "execution_count": 8,
   "id": "db9b70e9",
   "metadata": {},
   "outputs": [],
   "source": [
    "\n",
    "processing_log_dict['Gauss Filter (sigma)'] = 1.2\n",
    "\n",
    "gaussian_smooth = vtk.vtkImageGaussianSmooth()\n",
    "gaussian_smooth.SetInputData(image)\n",
    "gaussian_smooth.SetStandardDeviation(1.2)  \n",
    "gaussian_smooth.Update()\n",
    "output_image = gaussian_smooth.GetOutput()\n",
    "        "
   ]
  },
  {
   "cell_type": "markdown",
   "id": "172a34ec",
   "metadata": {},
   "source": [
    "\n",
    "## Save the Processed Image\n",
    "\n",
    "Finally, we will save the processed image and its updated processing log.\n"
   ]
  },
  {
   "cell_type": "code",
   "execution_count": 13,
   "id": "6015d06e",
   "metadata": {},
   "outputs": [],
   "source": [
    "\n",
    "output_aim = '/Users/matthiaswalle/Downloads/IMG1237_gauss_logged.AIM'\n",
    "writer = vtkbone.vtkboneAIMWriter()\n",
    "writer.SetInputData(output_image)\n",
    "writer.SetFileName(output_aim)\n",
    "writer.NewProcessingLogOff()\n",
    "writer.SetProcessingLog(dicttolog(processing_log_dict))\n",
    "writer.Update()\n"
   ]
  },
  {
   "cell_type": "markdown",
   "id": "8e9885a0",
   "metadata": {},
   "source": [
    "\n",
    "## Test the Result\n",
    "\n",
    "As a final step, let's read back the saved image and print its processing log to ensure everything went as expected.\n"
   ]
  },
  {
   "cell_type": "code",
   "execution_count": 14,
   "id": "956190a5",
   "metadata": {},
   "outputs": [
    {
     "name": "stdout",
     "output_type": "stream",
     "text": [
      "! Processing Log\n",
      "!\n",
      "!-------------------------------------------------------------------------------\n",
      "Created by                    N88_VTKBONE                                       \n",
      "Time                          16-APR-2017 20:20:59.67                           \n",
      "Original file                 dk0:[xtremect2.data.00001237.00005697]d0005679.isq;\n",
      "Original Creation-Date        14-SEP-2016 15:27:12.18                           \n",
      "Orig-ISQ-Dim-p                      2304       2304        168\n",
      "Orig-ISQ-Dim-um                   139852     139852      10197\n",
      "!-------------------------------------------------------------------------------\n",
      "Patient Name                  DBQ_152                                           \n",
      "Index Patient                                    1237\n",
      "Index Measurement                                5697\n",
      "!-------------------------------------------------------------------------------\n",
      "Site                                               20\n",
      "Scanner ID                                       3401\n",
      "Scanner type                                        9\n",
      "Position Slice 1 [um]                          166250\n",
      "No. samples                                      2304\n",
      "No. projections per 180                           900\n",
      "Scan Distance [um]                             139852\n",
      "Integration time [us]                           43000\n",
      "Reference line [um]                            156750\n",
      "Reconstruction-Alg.                                 3\n",
      "Energy [V]                                      68000\n",
      "Intensity [uA]                                   1470\n",
      "Angle-Offset [mdeg]                                 0\n",
      "Default-Eval                                      111\n",
      "!-------------------------------------------------------------------------------\n",
      "Mu_Scaling                                       8192\n",
      "Calibration Data              68 kVp, BH: 200 mg HA/ccm, Scaling 8192, 0.2 CU   \n",
      "Calib. default unit type      2 (Density)                                       \n",
      "Density: unit                 mg HA/ccm                                         \n",
      "Density: slope                             1662.52405\n",
      "Density: intercept                               -400\n",
      "HU: mu water                                   0.2366\n",
      "!-------------------------------------------------------------------------------\n",
      "Parameter name                Linear Attenuation                                \n",
      "Parameter units               [1/cm]                                            \n",
      "Minimum value                                -0.19946\n",
      "Maximum value                                 1.22742\n",
      "Average value                                 0.30119\n",
      "Standard deviation                            0.14001\n",
      "Scaled by factor                                 8192\n",
      "Minimum data value                            -1634.0\n",
      "Maximum data value                            10055.0\n",
      "Average data value                         2467.32495\n",
      "Standard data deviation                    1146.94397\n",
      "!-------------------------------------------------------------------------------\n",
      "Original Density: intercept               -398.609009\n",
      "Gauss Filter (sigma)                              1.2\n",
      "\n"
     ]
    }
   ],
   "source": [
    "\n",
    "reader = vtkbone.vtkboneAIMReader()\n",
    "reader.DataOnCellsOff()\n",
    "reader.SetFileName(output_aim)\n",
    "reader.Update()\n",
    "image = reader.GetOutput()\n",
    "\n",
    "processing_log = reader.GetProcessingLog()\n",
    "print(processing_log)\n",
    "        "
   ]
  },
  {
   "cell_type": "code",
   "execution_count": null,
   "id": "08bbf2fe",
   "metadata": {},
   "outputs": [],
   "source": []
  }
 ],
 "metadata": {
  "kernelspec": {
   "display_name": "vtkbone",
   "language": "python",
   "name": "python3"
  },
  "language_info": {
   "codemirror_mode": {
    "name": "ipython",
    "version": 3
   },
   "file_extension": ".py",
   "mimetype": "text/x-python",
   "name": "python",
   "nbconvert_exporter": "python",
   "pygments_lexer": "ipython3",
   "version": "3.7.12"
  }
 },
 "nbformat": 4,
 "nbformat_minor": 5
}
